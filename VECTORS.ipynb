{
  "nbformat": 4,
  "nbformat_minor": 0,
  "metadata": {
    "colab": {
      "provenance": [],
      "authorship_tag": "ABX9TyMNhOUK/rQQlcEqmZhMDpcn",
      "include_colab_link": true
    },
    "kernelspec": {
      "name": "python3",
      "display_name": "Python 3"
    },
    "language_info": {
      "name": "python"
    }
  },
  "cells": [
    {
      "cell_type": "markdown",
      "metadata": {
        "id": "view-in-github",
        "colab_type": "text"
      },
      "source": [
        "<a href=\"https://colab.research.google.com/github/Subhasree5/ESSENTIALS-OF-ML-NPTEL-/blob/main/VECTORS.ipynb\" target=\"_parent\"><img src=\"https://colab.research.google.com/assets/colab-badge.svg\" alt=\"Open In Colab\"/></a>"
      ]
    },
    {
      "cell_type": "code",
      "execution_count": 1,
      "metadata": {
        "id": "xr_RK2NvUwoB"
      },
      "outputs": [],
      "source": [
        "import numpy as np\n",
        "v=np.array([1,-1,2])\n",
        "w=np.array([2,5,2])"
      ]
    },
    {
      "cell_type": "markdown",
      "source": [
        "# **ADDITION**"
      ],
      "metadata": {
        "id": "QCQm5JnOVXtg"
      }
    },
    {
      "cell_type": "code",
      "source": [
        "print(v+w)"
      ],
      "metadata": {
        "colab": {
          "base_uri": "https://localhost:8080/"
        },
        "id": "H0APk3F7VTiG",
        "outputId": "fd0e6087-d22b-448d-8959-40032eb044fe"
      },
      "execution_count": 2,
      "outputs": [
        {
          "output_type": "stream",
          "name": "stdout",
          "text": [
            "[3 4 4]\n"
          ]
        }
      ]
    },
    {
      "cell_type": "markdown",
      "source": [
        "# **SUBTRACTION**"
      ],
      "metadata": {
        "id": "D3RqSMivVfSH"
      }
    },
    {
      "cell_type": "code",
      "source": [
        "print(v-w)"
      ],
      "metadata": {
        "colab": {
          "base_uri": "https://localhost:8080/"
        },
        "id": "9PoP1V4RVjD0",
        "outputId": "87dd3e7a-943b-47d5-f57c-c1c257546722"
      },
      "execution_count": 3,
      "outputs": [
        {
          "output_type": "stream",
          "name": "stdout",
          "text": [
            "[-1 -6  0]\n"
          ]
        }
      ]
    },
    {
      "cell_type": "markdown",
      "source": [
        "# **SCALAR MULTIPLICATION**"
      ],
      "metadata": {
        "id": "GWn1fG9kVmAA"
      }
    },
    {
      "cell_type": "code",
      "source": [
        "print(3*v)\n",
        "print(2*w)"
      ],
      "metadata": {
        "colab": {
          "base_uri": "https://localhost:8080/"
        },
        "id": "ni9CrqgqV7sa",
        "outputId": "a7c8180d-3c3e-4e48-d78f-917c6edf56e5"
      },
      "execution_count": 4,
      "outputs": [
        {
          "output_type": "stream",
          "name": "stdout",
          "text": [
            "[ 3 -3  6]\n",
            "[ 4 10  4]\n"
          ]
        }
      ]
    },
    {
      "cell_type": "markdown",
      "source": [
        "# **LENGTH**"
      ],
      "metadata": {
        "id": "uH83n2JLWBjp"
      }
    },
    {
      "cell_type": "code",
      "source": [
        "print(np.linalg.norm(v))\n",
        "print(np.linalg.norm(w))"
      ],
      "metadata": {
        "colab": {
          "base_uri": "https://localhost:8080/"
        },
        "id": "AB9dq_FJVqOJ",
        "outputId": "34e7b116-384b-402e-dac3-d22ebb17cc58"
      },
      "execution_count": 5,
      "outputs": [
        {
          "output_type": "stream",
          "name": "stdout",
          "text": [
            "2.449489742783178\n",
            "5.744562646538029\n"
          ]
        }
      ]
    },
    {
      "cell_type": "markdown",
      "source": [
        "# **DOT PRODUCT**"
      ],
      "metadata": {
        "id": "5SvnhijjWKAK"
      }
    },
    {
      "cell_type": "code",
      "source": [
        "s=np.dot(v,w)\n",
        "print(s)"
      ],
      "metadata": {
        "colab": {
          "base_uri": "https://localhost:8080/"
        },
        "id": "ux5wcMU6WOGs",
        "outputId": "2ed3817d-f261-4765-8481-7fd8e3bcc12f"
      },
      "execution_count": 6,
      "outputs": [
        {
          "output_type": "stream",
          "name": "stdout",
          "text": [
            "1\n"
          ]
        }
      ]
    }
  ]
}